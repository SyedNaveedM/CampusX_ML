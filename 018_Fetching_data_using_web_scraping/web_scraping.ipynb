{
 "cells": [
  {
   "cell_type": "code",
   "execution_count": 1,
   "id": "2cac4413",
   "metadata": {},
   "outputs": [],
   "source": [
    "import pandas as pd\n",
    "import requests\n",
    "from bs4 import BeautifulSoup"
   ]
  },
  {
   "cell_type": "code",
   "execution_count": 2,
   "id": "d1cbcce7",
   "metadata": {},
   "outputs": [
    {
     "data": {
      "text/plain": [
       "<Response [403]>"
      ]
     },
     "execution_count": 2,
     "metadata": {},
     "output_type": "execute_result"
    }
   ],
   "source": [
    "# this will make the website think we are a bot and reject us so we will disguise ourselves as a browser request\n",
    "requests.get('https://www.ambitionbox.com/list-of-companies?campaign=desktop_nav&page=2')"
   ]
  },
  {
   "cell_type": "code",
   "execution_count": 3,
   "id": "f10e8848",
   "metadata": {},
   "outputs": [
    {
     "name": "stdout",
     "output_type": "stream",
     "text": [
      "“The world as we have created it is a process of our thinking. It cannot be changed without changing our thinking.” — Albert Einstein\n",
      "“It is our choices, Harry, that show what we truly are, far more than our abilities.” — J.K. Rowling\n",
      "“There are only two ways to live your life. One is as though nothing is a miracle. The other is as though everything is a miracle.” — Albert Einstein\n",
      "“The person, be it gentleman or lady, who has not pleasure in a good novel, must be intolerably stupid.” — Jane Austen\n",
      "“Imperfection is beauty, madness is genius and it's better to be absolutely ridiculous than absolutely boring.” — Marilyn Monroe\n",
      "“Try not to become a man of success. Rather become a man of value.” — Albert Einstein\n",
      "“It is better to be hated for what you are than to be loved for what you are not.” — André Gide\n",
      "“I have not failed. I've just found 10,000 ways that won't work.” — Thomas A. Edison\n",
      "“A woman is like a tea bag; you never know how strong it is until it's in hot water.” — Eleanor Roosevelt\n",
      "“A day without sunshine is like, you know, night.” — Steve Martin\n"
     ]
    }
   ],
   "source": [
    "import requests\n",
    "from bs4 import BeautifulSoup\n",
    "\n",
    "url = \"http://quotes.toscrape.com\"\n",
    "response = requests.get(url)\n",
    "soup = BeautifulSoup(response.text, 'html.parser')\n",
    "\n",
    "for quote in soup.select(\".quote\"):\n",
    "    text = quote.select_one(\".text\").text\n",
    "    author = quote.select_one(\".author\").text\n",
    "    print(f\"{text} — {author}\")\n"
   ]
  },
  {
   "cell_type": "code",
   "execution_count": null,
   "id": "54dd465b",
   "metadata": {},
   "outputs": [],
   "source": [
    "import requests\n",
    "from bs4 import BeautifulSoup\n",
    "\n",
    "url = 'https://www.ambitionbox.com/list-of-companies?campaign=desktop_nav&page=2'\n",
    "\n",
    "headers = {\n",
    "    \"User-Agent\": (\n",
    "        \"Mozilla/5.0 (Windows NT 6.3; Win64; x64) \"\n",
    "        \"AppleWebKit/537.36 (KHTML, like Gecko) \"\n",
    "        \"Chrome/80.0.3987.162 Safari/537.36\"\n",
    "    )\n",
    "}\n",
    "\n",
    "response = requests.get(url, headers=headers)\n",
    "soup = BeautifulSoup(response.text, 'html.parser')\n",
    "\n",
    "# Just to see what's loaded\n",
    "print(soup.prettify()[:2000])  # Print first 2000 characters of HTML\n"
   ]
  },
  {
   "cell_type": "code",
   "execution_count": null,
   "id": "e9d4ad7b",
   "metadata": {},
   "outputs": [
    {
     "name": "stdout",
     "output_type": "stream",
     "text": [
      "A Light in the ... — Â£51.77\n",
      "Tipping the Velvet — Â£53.74\n",
      "Soumission — Â£50.10\n",
      "Sharp Objects — Â£47.82\n",
      "Sapiens: A Brief History ... — Â£54.23\n",
      "The Requiem Red — Â£22.65\n",
      "The Dirty Little Secrets ... — Â£33.34\n",
      "The Coming Woman: A ... — Â£17.93\n",
      "The Boys in the ... — Â£22.60\n",
      "The Black Maria — Â£52.15\n",
      "Starving Hearts (Triangular Trade ... — Â£13.99\n",
      "Shakespeare's Sonnets — Â£20.66\n",
      "Set Me Free — Â£17.46\n",
      "Scott Pilgrim's Precious Little ... — Â£52.29\n",
      "Rip it Up and ... — Â£35.02\n",
      "Our Band Could Be ... — Â£57.25\n",
      "Olio — Â£23.88\n",
      "Mesaerion: The Best Science ... — Â£37.59\n",
      "Libertarianism for Beginners — Â£51.33\n",
      "It's Only the Himalayas — Â£45.17\n",
      "<!DOCTYPE html>\n",
      "<!--[if lt IE 7]>      <html lang=\"en-us\" class=\"no-js lt-ie9 lt-ie8 lt-ie7\"> <![endif]-->\n",
      "<!--[if IE 7]>         <html lang=\"en-us\" class=\"no-js lt-ie9 lt-ie8\"> <![endif]-->\n",
      "<!--[if IE 8]>         <html lang=\"en-us\" class=\"no-js lt-ie9\"> <![endif]-->\n",
      "<!--[if gt IE 8]><!-->\n",
      "<html class=\"no-js\" lang=\"en-us\">\n",
      " <!--<![endif]-->\n",
      " <head>\n",
      "  <title>\n",
      "   All products | Books to Scrape - Sandbox\n",
      "  </title>\n",
      "  <meta content=\"text/html; charset=utf-8\" http-equiv=\"content-type\"/>\n",
      "  <meta content=\"24th Jun 2016 09:29\" name=\"created\"/>\n",
      "  <meta content=\"\" name=\"description\"/>\n",
      "  <meta content=\"width=device-width\" name=\"viewport\"/>\n",
      "  <meta content=\"NOARCHIVE,NOCACHE\" name=\"robots\"/>\n",
      "  <!-- Le HTML5 shim, for IE6-8 support of HTML elements -->\n",
      "  <!--[if lt IE 9]>\n",
      "        <script src=\"//html5shim.googlecode.com/svn/trunk/html5.js\"></script>\n",
      "        <![endif]-->\n",
      "  <link href=\"static/oscar/favicon.ico\" rel=\"shortcut icon\"/>\n",
      "  <link href=\"static/oscar/css/styles.css\" rel=\"stylesheet\" type=\"text/css\"/>\n",
      "  <link href=\"static/oscar/js/bootstrap-datetimepicker/bootstrap-datetimepicker.css\" rel=\"stylesheet\"/>\n",
      "  <link href=\"static/oscar/css/datetimepicker.css\" rel=\"stylesheet\" type=\"text/css\"/>\n",
      " </head>\n",
      " <body class=\"default\" id=\"default\">\n",
      "  <header class=\"header container-fluid\">\n",
      "   <div class=\"page_inner\">\n",
      "    <div class=\"row\">\n",
      "     <div class=\"col-sm-8 h1\">\n",
      "      <a href=\"index.html\">\n",
      "       Books to Scrape\n",
      "      </a>\n",
      "      <small>\n",
      "       We love being scraped!\n",
      "      </small>\n",
      "     </div>\n",
      "    </div>\n",
      "   </div>\n",
      "  </header>\n",
      "  <div class=\"container-fluid page\">\n",
      "   <div class=\"page_inner\">\n",
      "    <ul class=\"breadcrumb\">\n",
      "     <li>\n",
      "      <a href=\"index.html\">\n",
      "       Home\n",
      "      </a>\n",
      "     </li>\n",
      "     <li class=\"active\">\n",
      "      All products\n",
      "     </li>\n",
      "    </ul>\n",
      "    <div class=\"row\">\n",
      "     <aside class=\"sidebar col-sm-4 col-md-3\">\n",
      "      <div id=\"promotions_left\">\n",
      "      </div>\n",
      "      <div class=\"side_categories\">\n",
      "       <ul class=\"nav nav-list\">\n",
      "        <li>\n",
      "         <a href=\"catalogue/category/bo\n"
     ]
    }
   ],
   "source": [
    "import requests\n",
    "from bs4 import BeautifulSoup\n",
    "\n",
    "# get the book titles and their names\n",
    "\n",
    "url = \"http://books.toscrape.com\"\n",
    "response = requests.get(url)\n",
    "soup = BeautifulSoup(response.text, 'html.parser')\n",
    "\n",
    "books=soup.select('article.product_pod')\n",
    "\n",
    "for book in books:\n",
    "    title = book.h3.a.text\n",
    "    price = book.select_one(\"p.price_color\").text\n",
    "    print(f\"{title} — {price}\")\n",
    "\n"
   ]
  },
  {
   "cell_type": "code",
   "execution_count": null,
   "id": "d3df8555",
   "metadata": {},
   "outputs": [],
   "source": []
  }
 ],
 "metadata": {
  "kernelspec": {
   "display_name": "Python 3",
   "language": "python",
   "name": "python3"
  },
  "language_info": {
   "codemirror_mode": {
    "name": "ipython",
    "version": 3
   },
   "file_extension": ".py",
   "mimetype": "text/x-python",
   "name": "python",
   "nbconvert_exporter": "python",
   "pygments_lexer": "ipython3",
   "version": "3.12.8"
  }
 },
 "nbformat": 4,
 "nbformat_minor": 5
}
