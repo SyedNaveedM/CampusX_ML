{
 "cells": [
  {
   "cell_type": "markdown",
   "id": "f424d7c7",
   "metadata": {},
   "source": [
    "1. What is the Purpose of the Data?\n",
    "* What is this data about?\n",
    "* Why was it collected?\n",
    "* What problem are we trying to solve with it?\n",
    "\n",
    "2. Where Did the Data Come From?\n",
    "* What is the source of this data? (Sensors, surveys, databases, etc.)\n",
    "* How was it collected? (Manual entry, automated scraping, API, etc.)\n",
    "* Is the data trustworthy and accurate?\n",
    "\n",
    "3. What Does the Data Look Like?\n",
    "* What are the key columns (features) in the dataset?\n",
    "* What type of data is in each column? (Numbers, text, dates, categories, etc.)\n",
    "* How many rows and columns are there?\n",
    "\n",
    "4. Are There Any Missing or Incorrect Values?\n",
    "* Are there empty or missing values?\n",
    "* Are there any obvious mistakes in the data? (Typos, incorrect formats, etc.)\n",
    "* How should we handle missing or incorrect data?\n",
    "\n",
    "5. Are There Any Duplicates?\n",
    "* Are there repeated rows in the dataset?\n",
    "* Should duplicates be removed or kept?\n",
    "\n",
    "6. What is the Distribution of the Data?\n",
    "* What is the range of values in each column? (Min, max, average)\n",
    "* Are there any extreme values (outliers)?\n",
    "* Is the data balanced, or do some values appear much more often than others?\n",
    "\n",
    "7. Are There Relationships Between Features?\n",
    "* Do some columns depend on others?\n",
    "* Are any columns strongly correlated?\n",
    "* Does the data follow any patterns or trends?\n",
    "\n",
    "8. If There Are Labels (For Supervised Learning), Are They Correct?\n",
    "* Does the dataset have labels (target values)?\n",
    "* How were the labels assigned?\n",
    "* Are there any errors or inconsistencies in the labels?\n",
    "\n",
    "9. How Often is the Data Updated?\n",
    "* Is this a static dataset, or will new data keep coming in?\n",
    "* How frequently does the data change?\n",
    "\n",
    "10. Are There Any Ethical or Privacy Concerns?\n",
    "* Does the data contain sensitive or personal information?\n",
    "* Are there any biases in the data that could affect decision-making?"
   ]
  },
  {
   "cell_type": "markdown",
   "id": "ddef7ff5",
   "metadata": {},
   "source": []
  }
 ],
 "metadata": {
  "language_info": {
   "name": "python"
  }
 },
 "nbformat": 4,
 "nbformat_minor": 5
}
