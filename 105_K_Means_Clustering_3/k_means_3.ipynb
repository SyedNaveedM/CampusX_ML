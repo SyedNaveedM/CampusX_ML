{
 "cells": [
  {
   "cell_type": "markdown",
   "id": "3d36f948",
   "metadata": {},
   "source": [
    "# K-Means Algorithm from scratch"
   ]
  },
  {
   "cell_type": "markdown",
   "id": "0be8efba",
   "metadata": {},
   "source": [
    "#### 1) Decide no of clusters\n",
    "#### 2) Select random centroids\n",
    "#### 3) Assign clusters\n",
    "#### 4) Move centroids\n",
    "#### 5) Check if done"
   ]
  },
  {
   "cell_type": "code",
   "execution_count": 3,
   "id": "21dd1d1b",
   "metadata": {},
   "outputs": [],
   "source": [
    "import random\n",
    "import numpy"
   ]
  },
  {
   "cell_type": "markdown",
   "id": "88b72af2",
   "metadata": {},
   "source": [
    "We use the matrix form for distances as it generalizes well to higher dimensions"
   ]
  },
  {
   "cell_type": "code",
   "execution_count": 5,
   "id": "7a1e6bb8",
   "metadata": {},
   "outputs": [],
   "source": [
    "import numpy as np\n",
    "class KMeans:\n",
    "\n",
    "    def __init__(self, n_clusters=2, max_iter=100):\n",
    "        self.n_clusters=n_clusters\n",
    "        self.max_iter = max_iter\n",
    "        self.centroids = None\n",
    "\n",
    "    def fit_predict(self, X):\n",
    "        # select random points as centroids\n",
    "        random_index=random.sample(range(0, X.shape[0]),self.n_clusters)\n",
    "        self.centroids=X[random_index]\n",
    "\n",
    "        for i in range(self.max_iter):\n",
    "            cluster_group=self.assign_clusters(X)\n",
    "            old_centroids = self.centroids\n",
    "            # move centroids\n",
    "            self.centroids = self.move_centroids(X,cluster_group)\n",
    "            # check finish\n",
    "            if (old_centroids == self.centroids).all():\n",
    "                break\n",
    "\n",
    "        return cluster_group\n",
    "\n",
    "    def assign_clusters(self, X):\n",
    "        cluster_group=[]\n",
    "        distances=[]\n",
    "\n",
    "        # use matrix form\n",
    "        for row in X:\n",
    "            for centroid in self.centroids:\n",
    "                distances.append(np.sqrt(np.dot(row-centroid,row-centroid)))\n",
    "            min_distance=min(distances)\n",
    "            index_pos=distances.index(min_distance)\n",
    "            cluster_group.append(index_pos)\n",
    "            distances.clear()\n",
    "\n",
    "        return np.array(cluster_group)\n",
    "    \n",
    "\n",
    "    def move_centroids(self, X, cluster_group):\n",
    "        new_centroids=[]\n",
    "        cluster_type=np.unique(cluster_group)\n",
    "\n",
    "        for type in cluster_type:\n",
    "            new_centroids.append(X[cluster_group == type].mean(axis=0))\n",
    "\n",
    "        return np.array(new_centroids)"
   ]
  },
  {
   "cell_type": "code",
   "execution_count": null,
   "id": "95d03ca2",
   "metadata": {},
   "outputs": [],
   "source": []
  }
 ],
 "metadata": {
  "kernelspec": {
   "display_name": "Python 3",
   "language": "python",
   "name": "python3"
  },
  "language_info": {
   "codemirror_mode": {
    "name": "ipython",
    "version": 3
   },
   "file_extension": ".py",
   "mimetype": "text/x-python",
   "name": "python",
   "nbconvert_exporter": "python",
   "pygments_lexer": "ipython3",
   "version": "3.12.8"
  }
 },
 "nbformat": 4,
 "nbformat_minor": 5
}
