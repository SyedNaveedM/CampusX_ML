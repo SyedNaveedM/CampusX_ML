{
 "cells": [
  {
   "cell_type": "markdown",
   "id": "aec1aa60",
   "metadata": {},
   "source": [
    "Categorical data has two subtypes:\n",
    "1) Nominal \n",
    "2) Ordinal"
   ]
  },
  {
   "cell_type": "markdown",
   "id": "661ac08f",
   "metadata": {},
   "source": [
    "Nominal data is one where we can't have any ordering in it\n",
    "\n",
    "Ex: State, Engineering Branch"
   ]
  },
  {
   "cell_type": "markdown",
   "id": "3b2b9e83",
   "metadata": {},
   "source": [
    "Ordinal data has ordering in it\n",
    "\n",
    "Ex: Ratings, Passing classes"
   ]
  },
  {
   "cell_type": "markdown",
   "id": "8393f5e8",
   "metadata": {},
   "source": [
    "### Label Encoding"
   ]
  },
  {
   "cell_type": "markdown",
   "id": "9fb53a55",
   "metadata": {},
   "source": [
    "X be the dataframe one of whose columns is ordinal, then we apply ordinal encoding\n",
    "\n",
    "If y (the target variable) has categorical values, then we use label encoding"
   ]
  },
  {
   "cell_type": "markdown",
   "id": "e6482c6b",
   "metadata": {},
   "source": [
    "### Ordinal encoding"
   ]
  },
  {
   "cell_type": "markdown",
   "id": "832ca505",
   "metadata": {},
   "source": [
    "Education: PG, UG, HS, PG, UG, HS, HS (data)\n",
    "\n",
    "now we can encode it like this: PG=2, UG=1, HS=0 (as this is ordinal data)"
   ]
  },
  {
   "cell_type": "markdown",
   "id": "dd6b2395",
   "metadata": {},
   "source": []
  }
 ],
 "metadata": {
  "language_info": {
   "name": "python"
  }
 },
 "nbformat": 4,
 "nbformat_minor": 5
}
