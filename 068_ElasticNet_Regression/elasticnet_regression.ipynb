{
 "cells": [
  {
   "cell_type": "markdown",
   "id": "71c3c820",
   "metadata": {},
   "source": [
    "We use elastic net regression when we don't know which regularization to apply in a large dataset"
   ]
  },
  {
   "attachments": {
    "image.png": {
     "image/png": "[encoded data removed]"
    }
   },
   "cell_type": "markdown",
   "id": "30eb2c12",
   "metadata": {},
   "source": [
    "![image.png](attachment:image.png)"
   ]
  },
  {
   "cell_type": "markdown",
   "id": "bef11a7a",
   "metadata": {},
   "source": [
    "# 📘 Elastic Net Regression\n",
    "\n",
    "Elastic Net is a **regularized regression** technique that combines **L1 (Lasso)** and **L2 (Ridge)** penalties. It addresses the limitations of both methods when applied independently.\n",
    "\n",
    "---\n",
    "\n",
    "## 🧠 Motivation\n",
    "\n",
    "- **Lasso** (L1) promotes sparsity but can behave erratically when features are highly correlated.\n",
    "- **Ridge** (L2) handles multicollinearity well but does not produce sparse models.\n",
    "- **Elastic Net** merges the strengths of both:\n",
    "  - Feature selection (like Lasso)\n",
    "  - Stability with correlated features (like Ridge)\n",
    "\n",
    "---\n",
    "\n",
    "## 🔢 Loss Function\n",
    "\n",
    "The cost function minimized by Elastic Net is:\n",
    "\n",
    "$$\n",
    "J(\\theta) = \\sum_{i=1}^{n} \\left( y^{(i)} - \\theta^T x^{(i)} \\right)^2 + \\lambda_1 \\sum_{j=1}^{p} |\\theta_j| + \\lambda_2 \\sum_{j=1}^{p} \\theta_j^2\n",
    "$$\n",
    "\n",
    "Alternatively, using a mixing parameter $\\\\alpha$ and a single regularization strength $\\\\lambda$:\n",
    "\n",
    "$$\n",
    "J(\\theta) = \\text{RSS} + \\lambda \\left( \\alpha \\sum_{j=1}^{p} |\\theta_j| + (1 - \\alpha) \\sum_{j=1}^{p} \\theta_j^2 \\right)\n",
    "$$\n",
    "\n",
    "- $\\\\alpha \\in [0, 1]$ controls the mix between Lasso and Ridge:\n",
    "  - $\\\\alpha = 1$ → pure Lasso\n",
    "  - $\\\\alpha = 0$ → pure Ridge\n",
    "- $\\\\lambda$ controls overall regularization strength.\n",
    "\n",
    "---\n",
    "\n",
    "## 🧩 Intuition\n",
    "\n",
    "- **L1 part**: encourages coefficients to be zero → sparsity\n",
    "- **L2 part**: discourages large coefficients → stability\n",
    "- Elastic Net balances **variable selection** and **shrinkage**\n",
    "\n",
    "---\n",
    "\n",
    "## 🧪 When to Use\n",
    "\n",
    "- You have **many features** (especially more than observations)\n",
    "- Your features are **highly correlated**\n",
    "- You want both **sparse** and **stable** models\n",
    "\n",
    "---\n",
    "\n",
    "## ✅ Advantages\n",
    "\n",
    "- Combines **feature selection** with **regularization**\n",
    "- Works well when:\n",
    "  - Number of features > number of samples\n",
    "  - Predictors are **correlated**\n",
    "- More robust than Lasso when features are correlated\n",
    "\n",
    "---\n",
    "\n",
    "## ❌ Disadvantages\n",
    "\n",
    "- Adds an extra hyperparameter $\\\\alpha$\n",
    "- Requires **tuning both $\\\\alpha$ and $\\\\lambda$** using cross-validation\n",
    "\n",
    "---\n",
    "\n",
    "## 📦 In scikit-learn\n",
    "\n",
    "```python\n",
    "from sklearn.linear_model import ElasticNet\n",
    "\n",
    "model = ElasticNet(alpha=1.0, l1_ratio=0.5)  # l1_ratio = α\n",
    "model.fit(X_train, y_train)\n"
   ]
  },
  {
   "cell_type": "code",
   "execution_count": 1,
   "id": "ff425aa9",
   "metadata": {},
   "outputs": [],
   "source": [
    "from sklearn.datasets import load_diabetes\n",
    "from sklearn.linear_model import LinearRegression,Ridge,Lasso,ElasticNet\n",
    "from sklearn.model_selection import train_test_split\n",
    "from sklearn.metrics import r2_score"
   ]
  },
  {
   "cell_type": "code",
   "execution_count": 2,
   "id": "f8006d57",
   "metadata": {},
   "outputs": [],
   "source": [
    "X,y = load_diabetes(return_X_y=True)"
   ]
  },
  {
   "cell_type": "code",
   "execution_count": 3,
   "id": "068fb47b",
   "metadata": {},
   "outputs": [],
   "source": [
    "X_train,X_test,y_train,y_test = train_test_split(X,y,test_size=0.2,random_state=2)"
   ]
  },
  {
   "cell_type": "code",
   "execution_count": 4,
   "id": "48c2ba38",
   "metadata": {},
   "outputs": [
    {
     "data": {
      "text/plain": [
       "0.4399338661568968"
      ]
     },
     "execution_count": 4,
     "metadata": {},
     "output_type": "execute_result"
    }
   ],
   "source": [
    "# Linear Regression\n",
    "reg = LinearRegression()\n",
    "reg.fit(X_train,y_train)\n",
    "y_pred = reg.predict(X_test)\n",
    "r2_score(y_test,y_pred)"
   ]
  },
  {
   "cell_type": "code",
   "execution_count": 5,
   "id": "7becc105",
   "metadata": {},
   "outputs": [
    {
     "data": {
      "text/plain": [
       "0.45199494197195456"
      ]
     },
     "execution_count": 5,
     "metadata": {},
     "output_type": "execute_result"
    }
   ],
   "source": [
    "# Ridge \n",
    "reg = Ridge(alpha=0.1)\n",
    "reg.fit(X_train,y_train)\n",
    "y_pred = reg.predict(X_test)\n",
    "r2_score(y_test,y_pred)"
   ]
  },
  {
   "cell_type": "code",
   "execution_count": 6,
   "id": "2eb4435c",
   "metadata": {},
   "outputs": [
    {
     "data": {
      "text/plain": [
       "0.44111855963110613"
      ]
     },
     "execution_count": 6,
     "metadata": {},
     "output_type": "execute_result"
    }
   ],
   "source": [
    "# Lasso\n",
    "reg = Lasso(alpha=0.01)\n",
    "reg.fit(X_train,y_train)\n",
    "y_pred = reg.predict(X_test)\n",
    "r2_score(y_test,y_pred)"
   ]
  },
  {
   "cell_type": "code",
   "execution_count": 12,
   "id": "131c6cfa",
   "metadata": {},
   "outputs": [
    {
     "data": {
      "text/plain": [
       "0.4531474541554823"
      ]
     },
     "execution_count": 12,
     "metadata": {},
     "output_type": "execute_result"
    }
   ],
   "source": [
    "# ElasticNet\n",
    "reg = ElasticNet(alpha=0.005,l1_ratio=0.9)\n",
    "reg.fit(X_train,y_train)\n",
    "y_pred = reg.predict(X_test)\n",
    "r2_score(y_test,y_pred)"
   ]
  },
  {
   "cell_type": "code",
   "execution_count": null,
   "id": "acccb6ac",
   "metadata": {},
   "outputs": [],
   "source": []
  }
 ],
 "metadata": {
  "kernelspec": {
   "display_name": "Python 3",
   "language": "python",
   "name": "python3"
  },
  "language_info": {
   "codemirror_mode": {
    "name": "ipython",
    "version": 3
   },
   "file_extension": ".py",
   "mimetype": "text/x-python",
   "name": "python",
   "nbconvert_exporter": "python",
   "pygments_lexer": "ipython3",
   "version": "3.12.8"
  }
 },
 "nbformat": 4,
 "nbformat_minor": 5
}
