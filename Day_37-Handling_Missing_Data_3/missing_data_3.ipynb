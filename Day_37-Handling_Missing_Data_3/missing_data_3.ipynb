{
 "cells": [
  {
   "cell_type": "markdown",
   "id": "8d2a8355",
   "metadata": {},
   "source": [
    "## Handling missing categorical data"
   ]
  },
  {
   "cell_type": "markdown",
   "id": "73b2d60b",
   "metadata": {},
   "source": [
    "One of the ways to impute using mode (most frequent).\n",
    "\n",
    "Assumptions: The mode should appear a lot more than the other data points"
   ]
  },
  {
   "cell_type": "markdown",
   "id": "f3fd428d",
   "metadata": {},
   "source": [
    "It is very easy to apply but changes the distribution"
   ]
  },
  {
   "cell_type": "markdown",
   "id": "ee6c1a93",
   "metadata": {},
   "source": [
    "Another way is to introduce a new category called missing. We do this when the missing data is > 5% or if the data is not missing at random"
   ]
  },
  {
   "cell_type": "markdown",
   "id": "09f6e838",
   "metadata": {},
   "source": []
  }
 ],
 "metadata": {
  "kernelspec": {
   "display_name": "Python 3",
   "language": "python",
   "name": "python3"
  },
  "language_info": {
   "name": "python",
   "version": "3.12.8"
  }
 },
 "nbformat": 4,
 "nbformat_minor": 5
}
