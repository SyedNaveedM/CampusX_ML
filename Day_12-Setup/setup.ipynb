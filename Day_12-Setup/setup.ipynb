{
 "cells": [
  {
   "cell_type": "markdown",
   "id": "634b4995",
   "metadata": {},
   "source": [
    "Use anaconda for managing different environments as we might need to use different versions of the packages on the same system."
   ]
  },
  {
   "cell_type": "markdown",
   "id": "5bd07eff",
   "metadata": {},
   "source": [
    "### Creating a new environment\n",
    "\n",
    "conda create --name <env_name>\n"
   ]
  },
  {
   "cell_type": "markdown",
   "id": "730bb2d3",
   "metadata": {},
   "source": [
    "### Using the environment\n",
    "\n",
    "conda activate <env_name>"
   ]
  },
  {
   "cell_type": "markdown",
   "id": "1fd93d03",
   "metadata": {},
   "source": [
    "After activating the environment, install jupyter notebook using anaconda commands and later libraries such as numpy and pandas in the jupyter notebook itself"
   ]
  },
  {
   "cell_type": "markdown",
   "id": "cf50b50c",
   "metadata": {},
   "source": [
    "### Removing the environment\n",
    "\n",
    "conda remove --name <env_name> --all"
   ]
  },
  {
   "cell_type": "markdown",
   "id": "2780294b",
   "metadata": {},
   "source": [
    "### Deactivating\n",
    "\n",
    "conda deactivate (within the environment)"
   ]
  },
  {
   "cell_type": "markdown",
   "id": "5198ab07",
   "metadata": {},
   "source": []
  }
 ],
 "metadata": {
  "kernelspec": {
   "display_name": "Python 3",
   "language": "python",
   "name": "python3"
  },
  "language_info": {
   "name": "python",
   "version": "3.12.8"
  }
 },
 "nbformat": 4,
 "nbformat_minor": 5
}
