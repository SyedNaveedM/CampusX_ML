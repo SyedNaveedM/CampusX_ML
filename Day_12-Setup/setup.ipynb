{
 "cells": [
  {
   "cell_type": "markdown",
   "id": "634b4995",
   "metadata": {},
   "source": [
    "Use anaconda for managing different environments as we might need to use different versions of the packages on the same system."
   ]
  },
  {
   "cell_type": "markdown",
   "id": "5bd07eff",
   "metadata": {},
   "source": [
    "### Creating a new environment\n",
    "\n",
    "conda create --name <env_name>\n"
   ]
  },
  {
   "cell_type": "markdown",
   "id": "730bb2d3",
   "metadata": {},
   "source": [
    "### Using the environment\n",
    "\n",
    "conda activate <env_name>"
   ]
  },
  {
   "cell_type": "markdown",
   "id": "1fd93d03",
   "metadata": {},
   "source": [
    "After activating the environment, install jupyter notebook using anaconda commands and later libraries such as numpy and pandas in the jupyter notebook itself"
   ]
  },
  {
   "cell_type": "markdown",
   "id": "cf50b50c",
   "metadata": {},
   "source": [
    "### Removing the environment\n",
    "\n",
    "conda remove --name <env_name> --all"
   ]
  },
  {
   "cell_type": "markdown",
   "id": "2780294b",
   "metadata": {},
   "source": [
    "### Deactivating\n",
    "\n",
    "conda deactivate (within the environment)"
   ]
  },
  {
   "cell_type": "code",
   "execution_count": 1,
   "id": "c1e893f8",
   "metadata": {},
   "outputs": [
    {
     "name": "stdout",
     "output_type": "stream",
     "text": [
      "Note: you may need to restart the kernel to use updated packages.\n"
     ]
    },
    {
     "name": "stderr",
     "output_type": "stream",
     "text": [
      "\n",
      "[notice] A new release of pip is available: 25.0.1 -> 25.1.1\n",
      "[notice] To update, run: python.exe -m pip install --upgrade pip\n"
     ]
    },
    {
     "name": "stdout",
     "output_type": "stream",
     "text": [
      "Collecting kaggle\n",
      "  Downloading kaggle-1.7.4.5-py3-none-any.whl.metadata (16 kB)\n",
      "Requirement already satisfied: bleach in c:\\users\\syed naveed\\appdata\\local\\programs\\python\\python312\\lib\\site-packages (from kaggle) (6.2.0)\n",
      "Requirement already satisfied: certifi>=14.05.14 in c:\\users\\syed naveed\\appdata\\local\\programs\\python\\python312\\lib\\site-packages (from kaggle) (2024.12.14)\n",
      "Requirement already satisfied: charset-normalizer in c:\\users\\syed naveed\\appdata\\local\\programs\\python\\python312\\lib\\site-packages (from kaggle) (3.4.1)\n",
      "Requirement already satisfied: idna in c:\\users\\syed naveed\\appdata\\local\\programs\\python\\python312\\lib\\site-packages (from kaggle) (3.10)\n",
      "Requirement already satisfied: protobuf in c:\\users\\syed naveed\\appdata\\local\\programs\\python\\python312\\lib\\site-packages (from kaggle) (5.29.3)\n",
      "Requirement already satisfied: python-dateutil>=2.5.3 in c:\\users\\syed naveed\\appdata\\local\\programs\\python\\python312\\lib\\site-packages (from kaggle) (2.9.0.post0)\n",
      "Collecting python-slugify (from kaggle)\n",
      "  Downloading python_slugify-8.0.4-py2.py3-none-any.whl.metadata (8.5 kB)\n",
      "Requirement already satisfied: requests in c:\\users\\syed naveed\\appdata\\local\\programs\\python\\python312\\lib\\site-packages (from kaggle) (2.32.3)\n",
      "Requirement already satisfied: setuptools>=21.0.0 in c:\\users\\syed naveed\\appdata\\local\\programs\\python\\python312\\lib\\site-packages (from kaggle) (75.6.0)\n",
      "Requirement already satisfied: six>=1.10 in c:\\users\\syed naveed\\appdata\\local\\programs\\python\\python312\\lib\\site-packages (from kaggle) (1.17.0)\n",
      "Collecting text-unidecode (from kaggle)\n",
      "  Downloading text_unidecode-1.3-py2.py3-none-any.whl.metadata (2.4 kB)\n",
      "Requirement already satisfied: tqdm in c:\\users\\syed naveed\\appdata\\local\\programs\\python\\python312\\lib\\site-packages (from kaggle) (4.67.1)\n",
      "Requirement already satisfied: urllib3>=1.15.1 in c:\\users\\syed naveed\\appdata\\local\\programs\\python\\python312\\lib\\site-packages (from kaggle) (2.3.0)\n",
      "Requirement already satisfied: webencodings in c:\\users\\syed naveed\\appdata\\local\\programs\\python\\python312\\lib\\site-packages (from kaggle) (0.5.1)\n",
      "Requirement already satisfied: colorama in c:\\users\\syed naveed\\appdata\\local\\programs\\python\\python312\\lib\\site-packages (from tqdm->kaggle) (0.4.6)\n",
      "Downloading kaggle-1.7.4.5-py3-none-any.whl (181 kB)\n",
      "Downloading python_slugify-8.0.4-py2.py3-none-any.whl (10 kB)\n",
      "Downloading text_unidecode-1.3-py2.py3-none-any.whl (78 kB)\n",
      "Installing collected packages: text-unidecode, python-slugify, kaggle\n",
      "Successfully installed kaggle-1.7.4.5 python-slugify-8.0.4 text-unidecode-1.3\n"
     ]
    }
   ],
   "source": [
    "pip install kaggle"
   ]
  },
  {
   "cell_type": "markdown",
   "id": "5198ab07",
   "metadata": {},
   "source": [
    "### How to efficiently download and use large datasets\n",
    "\n",
    "1) Go to kaggle account and get your api token\n",
    "2) This will give you a file, download it in the folder you are working in.\n",
    "3) Now, go to the dataset and pick up the username/dataset-name from the URL and run the below command"
   ]
  },
  {
   "cell_type": "code",
   "execution_count": 4,
   "id": "0a73cc24",
   "metadata": {},
   "outputs": [
    {
     "name": "stdout",
     "output_type": "stream",
     "text": [
      "^C\n"
     ]
    },
    {
     "name": "stdout",
     "output_type": "stream",
     "text": [
      "Dataset URL: https://www.kaggle.com/datasets/wikimedia-foundation/wikipedia-structured-contents\n",
      "License(s): CC-BY-SA-4.0\n",
      "('Connection broken: IncompleteRead(2547302400 bytes read, 22574383257 more expected)', IncompleteRead(2547302400 bytes read, 22574383257 more expected))\n"
     ]
    }
   ],
   "source": [
    "# download the dataset\n",
    "!kaggle datasets download -d wikimedia-foundation/wikipedia-structured-contents --unzip\n"
   ]
  },
  {
   "cell_type": "code",
   "execution_count": null,
   "id": "52344a74",
   "metadata": {},
   "outputs": [],
   "source": []
  }
 ],
 "metadata": {
  "kernelspec": {
   "display_name": "Python 3",
   "language": "python",
   "name": "python3"
  },
  "language_info": {
   "codemirror_mode": {
    "name": "ipython",
    "version": 3
   },
   "file_extension": ".py",
   "mimetype": "text/x-python",
   "name": "python",
   "nbconvert_exporter": "python",
   "pygments_lexer": "ipython3",
   "version": "3.12.8"
  }
 },
 "nbformat": 4,
 "nbformat_minor": 5
}
