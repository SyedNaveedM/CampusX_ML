{
 "cells": [
  {
   "cell_type": "markdown",
   "id": "9e4a758c",
   "metadata": {},
   "source": [
    "Pipelines chains together multiple steps so that the output of each step is used as input to the next step. Pipelines make it easy to apply the same preprocessing to train and test"
   ]
  },
  {
   "cell_type": "markdown",
   "id": "8857240c",
   "metadata": {},
   "source": []
  }
 ],
 "metadata": {
  "language_info": {
   "name": "python"
  }
 },
 "nbformat": 4,
 "nbformat_minor": 5
}
