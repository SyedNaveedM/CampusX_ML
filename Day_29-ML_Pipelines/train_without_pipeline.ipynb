{
 "cells": [
  {
   "cell_type": "markdown",
   "id": "9e4a758c",
   "metadata": {},
   "source": [
    "Pipelines chains together multiple steps so that the output of each step is used as input to the next step. Pipelines make it easy to apply the same preprocessing to train and test"
   ]
  },
  {
   "cell_type": "code",
   "execution_count": null,
   "id": "8857240c",
   "metadata": {},
   "outputs": [],
   "source": []
  }
 ],
 "metadata": {
  "kernelspec": {
   "display_name": "Python 3",
   "language": "python",
   "name": "python3"
  },
  "language_info": {
   "name": "python",
   "version": "3.12.8"
  }
 },
 "nbformat": 4,
 "nbformat_minor": 5
}
