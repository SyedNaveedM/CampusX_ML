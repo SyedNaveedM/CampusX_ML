{
 "cells": [
  {
   "cell_type": "markdown",
   "id": "20d6593b",
   "metadata": {},
   "source": [
    "# How to frame an ML problem"
   ]
  },
  {
   "cell_type": "markdown",
   "id": "952eae43",
   "metadata": {},
   "source": [
    "Case study: How to increase revenue for netflix? A) Decrease churn rate"
   ]
  },
  {
   "cell_type": "markdown",
   "id": "81dea5ed",
   "metadata": {},
   "source": [
    "Always when you get a business problem then try to think of how to get it into mathematical terms. For example, instead of increasing revenue as the main goal, now we are thinking of decreasing the churn rate by 0.25%. A mathematical breakdown"
   ]
  },
  {
   "cell_type": "markdown",
   "id": "e0eba2a0",
   "metadata": {},
   "source": [
    "For identifying the type of problem we need to see at the big picture. \n",
    "\n",
    "In our case we are classifying the person who wants to leave which means it is a supervised learning and a classification specifically.\n",
    "\n",
    "\n",
    "Next, we want to know the probability of how badly a customer wants to leave. Now we immediately change our strategy that it is a regression problem not classification."
   ]
  },
  {
   "cell_type": "markdown",
   "id": "fe0ba864",
   "metadata": {},
   "source": [
    "#### Getting the data"
   ]
  },
  {
   "cell_type": "markdown",
   "id": "4d51f2d4",
   "metadata": {},
   "source": [
    "1) Watch time\n",
    "2) Search but did not find\n",
    "3) Content left in the middle\n",
    "4) Clicked on recommendations"
   ]
  },
  {
   "cell_type": "markdown",
   "id": "0ef87f2a",
   "metadata": {},
   "source": [
    "#### Metrics to measure"
   ]
  },
  {
   "cell_type": "markdown",
   "id": "40e4f0f1",
   "metadata": {},
   "source": [
    "#### Online vs Batch"
   ]
  },
  {
   "cell_type": "markdown",
   "id": "7f7be88a",
   "metadata": {},
   "source": [
    "Here we would prefer online learning because netflix time spent is extremely volatile so we need live data for better predictions"
   ]
  },
  {
   "cell_type": "markdown",
   "id": "a8bc314b",
   "metadata": {},
   "source": [
    "#### Check for assumptions"
   ]
  },
  {
   "cell_type": "markdown",
   "id": "63c6f98a",
   "metadata": {},
   "source": [
    "1) Are the features we checked there in our data\n",
    "2) Should we need to change the model depending on the nation or region?"
   ]
  },
  {
   "cell_type": "markdown",
   "id": "12ce4d8a",
   "metadata": {},
   "source": []
  }
 ],
 "metadata": {
  "language_info": {
   "name": "python"
  }
 },
 "nbformat": 4,
 "nbformat_minor": 5
}
