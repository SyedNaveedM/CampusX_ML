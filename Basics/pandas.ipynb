{
 "cells": [
  {
   "cell_type": "markdown",
   "id": "27030ce9",
   "metadata": {},
   "source": [
    "A DataFrame in Pandas is a two-dimensional, size-mutable, tabular data structure with labeled axes (rows and columns). It's one of the core data structures in the Pandas library and is similar to an Excel spreadsheet or a SQL table.\n",
    "\n",
    "📌 Key Properties of a DataFrame:\n",
    "Rows and Columns: Think of it as a table with rows and columns.\n",
    "\n",
    "Labeled axes: Rows are labeled with an index, and columns have names.\n",
    "\n",
    "Heterogeneous types: Each column can hold data of a different type (e.g., int, float, str).\n",
    "\n",
    "Mutable: You can change its size or values after creation.\n",
    "\n"
   ]
  },
  {
   "cell_type": "markdown",
   "id": "e451213a",
   "metadata": {},
   "source": []
  }
 ],
 "metadata": {
  "kernelspec": {
   "display_name": "Python 3",
   "language": "python",
   "name": "python3"
  },
  "language_info": {
   "name": "python",
   "version": "3.12.8"
  }
 },
 "nbformat": 4,
 "nbformat_minor": 5
}
