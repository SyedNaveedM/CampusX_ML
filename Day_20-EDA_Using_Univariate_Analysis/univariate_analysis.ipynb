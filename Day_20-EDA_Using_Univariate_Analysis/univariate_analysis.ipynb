{
 "cells": [
  {
   "cell_type": "markdown",
   "id": "6af0e436",
   "metadata": {},
   "source": [
    "### EDA - Exploratory Data Analysis"
   ]
  },
  {
   "cell_type": "markdown",
   "id": "ff5cfa85",
   "metadata": {},
   "source": [
    "Univariate analysis means the analysis from the point of a single variable. Suppose we have data with many columns, each column can be thought of as a variable. So, when you do analysis on a single variable it is called univariate analysis"
   ]
  },
  {
   "cell_type": "markdown",
   "id": "db920150",
   "metadata": {},
   "source": [
    "There are two main types of data : Numerical and Categorical\n",
    "\n",
    "Numerical : Marks, Age, height, etc.\n",
    "Categorical: Country, Gender, etc."
   ]
  },
  {
   "cell_type": "markdown",
   "id": "a71bba3e",
   "metadata": {},
   "source": [
    "Univariate analysis depends on the type of data in the column"
   ]
  },
  {
   "cell_type": "markdown",
   "id": "1086ab04",
   "metadata": {},
   "source": []
  }
 ],
 "metadata": {
  "language_info": {
   "name": "python"
  }
 },
 "nbformat": 4,
 "nbformat_minor": 5
}
