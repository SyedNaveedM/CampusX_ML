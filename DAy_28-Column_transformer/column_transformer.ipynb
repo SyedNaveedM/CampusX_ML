{
 "cells": [
  {
   "cell_type": "markdown",
   "id": "aab28e7c",
   "metadata": {},
   "source": [
    "Handling different columns requiring different types of encoding is quite difficult. This is because when we do encoding it creates a numpy array, then we have merge them all which is quite cumbersome and inefficient"
   ]
  },
  {
   "cell_type": "markdown",
   "id": "356a3c1a",
   "metadata": {},
   "source": []
  }
 ],
 "metadata": {
  "kernelspec": {
   "display_name": "Python 3",
   "language": "python",
   "name": "python3"
  },
  "language_info": {
   "name": "python",
   "version": "3.12.8"
  }
 },
 "nbformat": 4,
 "nbformat_minor": 5
}
