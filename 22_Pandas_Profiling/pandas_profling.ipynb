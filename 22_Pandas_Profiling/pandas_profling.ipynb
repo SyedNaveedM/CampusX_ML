{
 "cells": [
  {
   "cell_type": "code",
   "execution_count": 1,
   "id": "9fa5bfc8",
   "metadata": {},
   "outputs": [
    {
     "name": "stdout",
     "output_type": "stream",
     "text": [
      "Collecting ydata-profiling\n",
      "  Downloading ydata_profiling-4.16.1-py2.py3-none-any.whl.metadata (22 kB)\n",
      "Requirement already satisfied: scipy<1.16,>=1.4.1 in c:\\users\\syed naveed\\appdata\\local\\programs\\python\\python312\\lib\\site-packages (from ydata-profiling) (1.15.1)\n",
      "Requirement already satisfied: pandas!=1.4.0,<3.0,>1.1 in c:\\users\\syed naveed\\appdata\\local\\programs\\python\\python312\\lib\\site-packages (from ydata-profiling) (2.2.3)\n",
      "Requirement already satisfied: matplotlib<=3.10,>=3.5 in c:\\users\\syed naveed\\appdata\\local\\programs\\python\\python312\\lib\\site-packages (from ydata-profiling) (3.10.0)\n",
      "Requirement already satisfied: pydantic>=2 in c:\\users\\syed naveed\\appdata\\local\\programs\\python\\python312\\lib\\site-packages (from ydata-profiling) (2.10.4)\n",
      "Requirement already satisfied: PyYAML<6.1,>=5.0.0 in c:\\users\\syed naveed\\appdata\\local\\programs\\python\\python312\\lib\\site-packages (from ydata-profiling) (6.0.2)\n",
      "Requirement already satisfied: jinja2<3.2,>=2.11.1 in c:\\users\\syed naveed\\appdata\\local\\programs\\python\\python312\\lib\\site-packages (from ydata-profiling) (3.1.5)\n",
      "Collecting visions<0.8.2,>=0.7.5 (from visions[type_image_path]<0.8.2,>=0.7.5->ydata-profiling)\n",
      "  Downloading visions-0.8.1-py3-none-any.whl.metadata (11 kB)\n",
      "Requirement already satisfied: numpy<2.2,>=1.16.0 in c:\\users\\syed naveed\\appdata\\local\\programs\\python\\python312\\lib\\site-packages (from ydata-profiling) (1.26.4)\n",
      "Collecting htmlmin==0.1.12 (from ydata-profiling)\n",
      "  Downloading htmlmin-0.1.12.tar.gz (19 kB)\n",
      "  Preparing metadata (setup.py): started\n",
      "  Preparing metadata (setup.py): finished with status 'done'\n",
      "Collecting phik<0.13,>=0.11.1 (from ydata-profiling)\n",
      "  Downloading phik-0.12.4-cp312-cp312-win_amd64.whl.metadata (5.6 kB)\n",
      "Requirement already satisfied: requests<3,>=2.24.0 in c:\\users\\syed naveed\\appdata\\local\\programs\\python\\python312\\lib\\site-packages (from ydata-profiling) (2.32.3)\n",
      "Requirement already satisfied: tqdm<5,>=4.48.2 in c:\\users\\syed naveed\\appdata\\local\\programs\\python\\python312\\lib\\site-packages (from ydata-profiling) (4.67.1)\n",
      "Requirement already satisfied: seaborn<0.14,>=0.10.1 in c:\\users\\syed naveed\\appdata\\local\\programs\\python\\python312\\lib\\site-packages (from ydata-profiling) (0.13.2)\n",
      "Collecting multimethod<2,>=1.4 (from ydata-profiling)\n",
      "  Downloading multimethod-1.12-py3-none-any.whl.metadata (9.6 kB)\n",
      "Collecting statsmodels<1,>=0.13.2 (from ydata-profiling)\n",
      "  Downloading statsmodels-0.14.4-cp312-cp312-win_amd64.whl.metadata (9.5 kB)\n",
      "Collecting typeguard<5,>=3 (from ydata-profiling)\n",
      "  Downloading typeguard-4.4.2-py3-none-any.whl.metadata (3.8 kB)\n",
      "Collecting imagehash==4.3.1 (from ydata-profiling)\n",
      "  Downloading ImageHash-4.3.1-py2.py3-none-any.whl.metadata (8.0 kB)\n",
      "Collecting wordcloud>=1.9.3 (from ydata-profiling)\n",
      "  Downloading wordcloud-1.9.4-cp312-cp312-win_amd64.whl.metadata (3.5 kB)\n",
      "Collecting dacite>=1.8 (from ydata-profiling)\n",
      "  Downloading dacite-1.9.2-py3-none-any.whl.metadata (17 kB)\n",
      "Requirement already satisfied: numba<=0.61,>=0.56.0 in c:\\users\\syed naveed\\appdata\\local\\programs\\python\\python312\\lib\\site-packages (from ydata-profiling) (0.61.0)\n",
      "Collecting PyWavelets (from imagehash==4.3.1->ydata-profiling)\n",
      "  Downloading pywavelets-1.8.0-cp312-cp312-win_amd64.whl.metadata (9.0 kB)\n",
      "Requirement already satisfied: pillow in c:\\users\\syed naveed\\appdata\\local\\programs\\python\\python312\\lib\\site-packages (from imagehash==4.3.1->ydata-profiling) (10.4.0)\n",
      "Requirement already satisfied: MarkupSafe>=2.0 in c:\\users\\syed naveed\\appdata\\local\\programs\\python\\python312\\lib\\site-packages (from jinja2<3.2,>=2.11.1->ydata-profiling) (3.0.2)\n",
      "Requirement already satisfied: contourpy>=1.0.1 in c:\\users\\syed naveed\\appdata\\local\\programs\\python\\python312\\lib\\site-packages (from matplotlib<=3.10,>=3.5->ydata-profiling) (1.3.1)\n",
      "Requirement already satisfied: cycler>=0.10 in c:\\users\\syed naveed\\appdata\\local\\programs\\python\\python312\\lib\\site-packages (from matplotlib<=3.10,>=3.5->ydata-profiling) (0.12.1)\n",
      "Requirement already satisfied: fonttools>=4.22.0 in c:\\users\\syed naveed\\appdata\\local\\programs\\python\\python312\\lib\\site-packages (from matplotlib<=3.10,>=3.5->ydata-profiling) (4.55.3)\n",
      "Requirement already satisfied: kiwisolver>=1.3.1 in c:\\users\\syed naveed\\appdata\\local\\programs\\python\\python312\\lib\\site-packages (from matplotlib<=3.10,>=3.5->ydata-profiling) (1.4.8)\n",
      "Requirement already satisfied: packaging>=20.0 in c:\\users\\syed naveed\\appdata\\local\\programs\\python\\python312\\lib\\site-packages (from matplotlib<=3.10,>=3.5->ydata-profiling) (24.2)\n",
      "Requirement already satisfied: pyparsing>=2.3.1 in c:\\users\\syed naveed\\appdata\\local\\programs\\python\\python312\\lib\\site-packages (from matplotlib<=3.10,>=3.5->ydata-profiling) (3.2.1)\n",
      "Requirement already satisfied: python-dateutil>=2.7 in c:\\users\\syed naveed\\appdata\\local\\programs\\python\\python312\\lib\\site-packages (from matplotlib<=3.10,>=3.5->ydata-profiling) (2.9.0.post0)\n",
      "Requirement already satisfied: llvmlite<0.45,>=0.44.0dev0 in c:\\users\\syed naveed\\appdata\\local\\programs\\python\\python312\\lib\\site-packages (from numba<=0.61,>=0.56.0->ydata-profiling) (0.44.0)\n",
      "Requirement already satisfied: pytz>=2020.1 in c:\\users\\syed naveed\\appdata\\local\\programs\\python\\python312\\lib\\site-packages (from pandas!=1.4.0,<3.0,>1.1->ydata-profiling) (2024.2)\n",
      "Requirement already satisfied: tzdata>=2022.7 in c:\\users\\syed naveed\\appdata\\local\\programs\\python\\python312\\lib\\site-packages (from pandas!=1.4.0,<3.0,>1.1->ydata-profiling) (2024.2)\n",
      "Requirement already satisfied: joblib>=0.14.1 in c:\\users\\syed naveed\\appdata\\local\\programs\\python\\python312\\lib\\site-packages (from phik<0.13,>=0.11.1->ydata-profiling) (1.4.2)\n",
      "Requirement already satisfied: charset-normalizer<4,>=2 in c:\\users\\syed naveed\\appdata\\local\\programs\\python\\python312\\lib\\site-packages (from requests<3,>=2.24.0->ydata-profiling) (3.4.1)\n",
      "Requirement already satisfied: idna<4,>=2.5 in c:\\users\\syed naveed\\appdata\\local\\programs\\python\\python312\\lib\\site-packages (from requests<3,>=2.24.0->ydata-profiling) (3.10)\n",
      "Requirement already satisfied: urllib3<3,>=1.21.1 in c:\\users\\syed naveed\\appdata\\local\\programs\\python\\python312\\lib\\site-packages (from requests<3,>=2.24.0->ydata-profiling) (2.3.0)\n",
      "Requirement already satisfied: certifi>=2017.4.17 in c:\\users\\syed naveed\\appdata\\local\\programs\\python\\python312\\lib\\site-packages (from requests<3,>=2.24.0->ydata-profiling) (2024.12.14)\n",
      "Collecting patsy>=0.5.6 (from statsmodels<1,>=0.13.2->ydata-profiling)\n",
      "  Downloading patsy-1.0.1-py2.py3-none-any.whl.metadata (3.3 kB)\n",
      "Requirement already satisfied: colorama in c:\\users\\syed naveed\\appdata\\local\\programs\\python\\python312\\lib\\site-packages (from tqdm<5,>=4.48.2->ydata-profiling) (0.4.6)\n",
      "Requirement already satisfied: typing_extensions>=4.10.0 in c:\\users\\syed naveed\\appdata\\local\\programs\\python\\python312\\lib\\site-packages (from typeguard<5,>=3->ydata-profiling) (4.12.2)\n",
      "Requirement already satisfied: attrs>=19.3.0 in c:\\users\\syed naveed\\appdata\\local\\programs\\python\\python312\\lib\\site-packages (from visions<0.8.2,>=0.7.5->visions[type_image_path]<0.8.2,>=0.7.5->ydata-profiling) (24.3.0)\n",
      "Requirement already satisfied: networkx>=2.4 in c:\\users\\syed naveed\\appdata\\local\\programs\\python\\python312\\lib\\site-packages (from visions<0.8.2,>=0.7.5->visions[type_image_path]<0.8.2,>=0.7.5->ydata-profiling) (3.4.2)\n",
      "Collecting puremagic (from visions<0.8.2,>=0.7.5->visions[type_image_path]<0.8.2,>=0.7.5->ydata-profiling)\n",
      "  Downloading puremagic-1.29-py3-none-any.whl.metadata (5.8 kB)\n",
      "Requirement already satisfied: annotated-types>=0.6.0 in c:\\users\\syed naveed\\appdata\\local\\programs\\python\\python312\\lib\\site-packages (from pydantic>=2->ydata-profiling) (0.7.0)\n",
      "Requirement already satisfied: pydantic-core==2.27.2 in c:\\users\\syed naveed\\appdata\\local\\programs\\python\\python312\\lib\\site-packages (from pydantic>=2->ydata-profiling) (2.27.2)\n",
      "Requirement already satisfied: six>=1.5 in c:\\users\\syed naveed\\appdata\\local\\programs\\python\\python312\\lib\\site-packages (from python-dateutil>=2.7->matplotlib<=3.10,>=3.5->ydata-profiling) (1.17.0)\n",
      "Downloading ydata_profiling-4.16.1-py2.py3-none-any.whl (400 kB)\n",
      "Downloading ImageHash-4.3.1-py2.py3-none-any.whl (296 kB)\n",
      "Downloading multimethod-1.12-py3-none-any.whl (10 kB)\n",
      "Downloading phik-0.12.4-cp312-cp312-win_amd64.whl (666 kB)\n",
      "   ---------------------------------------- 0.0/666.4 kB ? eta -:--:--\n",
      "   ---------------------------------------- 666.4/666.4 kB 3.7 MB/s eta 0:00:00\n",
      "Downloading statsmodels-0.14.4-cp312-cp312-win_amd64.whl (9.8 MB)\n",
      "   ---------------------------------------- 0.0/9.8 MB ? eta -:--:--\n",
      "   --- ------------------------------------ 0.8/9.8 MB 4.2 MB/s eta 0:00:03\n",
      "   -------- ------------------------------- 2.1/9.8 MB 5.3 MB/s eta 0:00:02\n",
      "   -------------- ------------------------- 3.7/9.8 MB 6.2 MB/s eta 0:00:01\n",
      "   ---------------------- ----------------- 5.5/9.8 MB 7.1 MB/s eta 0:00:01\n",
      "   ----------------------------- ---------- 7.3/9.8 MB 7.7 MB/s eta 0:00:01\n",
      "   ------------------------------------- -- 9.2/9.8 MB 7.7 MB/s eta 0:00:01\n",
      "   ---------------------------------------- 9.8/9.8 MB 7.4 MB/s eta 0:00:00\n",
      "Downloading typeguard-4.4.2-py3-none-any.whl (35 kB)\n",
      "Downloading visions-0.8.1-py3-none-any.whl (105 kB)\n",
      "Downloading dacite-1.9.2-py3-none-any.whl (16 kB)\n",
      "Downloading patsy-1.0.1-py2.py3-none-any.whl (232 kB)\n",
      "Downloading wordcloud-1.9.4-cp312-cp312-win_amd64.whl (301 kB)\n",
      "Downloading puremagic-1.29-py3-none-any.whl (43 kB)\n",
      "Downloading pywavelets-1.8.0-cp312-cp312-win_amd64.whl (4.2 MB)\n",
      "   ---------------------------------------- 0.0/4.2 MB ? eta -:--:--\n",
      "   ----------------- ---------------------- 1.8/4.2 MB 9.1 MB/s eta 0:00:01\n",
      "   ----------------------------- ---------- 3.1/4.2 MB 9.2 MB/s eta 0:00:01\n",
      "   ---------------------------------------  4.2/4.2 MB 6.6 MB/s eta 0:00:01\n",
      "   ---------------------------------------- 4.2/4.2 MB 6.2 MB/s eta 0:00:00\n",
      "Building wheels for collected packages: htmlmin\n",
      "  Building wheel for htmlmin (setup.py): started\n",
      "  Building wheel for htmlmin (setup.py): finished with status 'done'\n",
      "  Created wheel for htmlmin: filename=htmlmin-0.1.12-py3-none-any.whl size=27093 sha256=7944bfec1a0b30f365646999abc22af1039a6c1bb69ffaba729b59faca18edc0\n",
      "  Stored in directory: c:\\users\\syed naveed\\appdata\\local\\pip\\cache\\wheels\\5f\\d4\\d7\\4189b07b5902ee9f3ce0dbb14909fbe8037c39d6c63ffd49c9\n",
      "Successfully built htmlmin\n",
      "Installing collected packages: puremagic, htmlmin, typeguard, PyWavelets, patsy, multimethod, dacite, imagehash, wordcloud, visions, statsmodels, phik, ydata-profiling\n",
      "\n",
      "   --------- ------------------------------  3/13 [PyWavelets]\n",
      "   --------- ------------------------------  3/13 [PyWavelets]\n",
      "   ------------ ---------------------------  4/13 [patsy]\n",
      "   ------------------ ---------------------  6/13 [dacite]\n",
      "   --------------------------- ------------  9/13 [visions]\n",
      "   --------------------------- ------------  9/13 [visions]\n",
      "   ------------------------------ --------- 10/13 [statsmodels]\n",
      "   ------------------------------ --------- 10/13 [statsmodels]\n",
      "   ------------------------------ --------- 10/13 [statsmodels]\n",
      "   ------------------------------ --------- 10/13 [statsmodels]\n",
      "   ------------------------------ --------- 10/13 [statsmodels]\n",
      "   ------------------------------ --------- 10/13 [statsmodels]\n",
      "   ------------------------------ --------- 10/13 [statsmodels]\n",
      "   ------------------------------ --------- 10/13 [statsmodels]\n",
      "   ------------------------------ --------- 10/13 [statsmodels]\n",
      "   ------------------------------ --------- 10/13 [statsmodels]\n",
      "   ------------------------------ --------- 10/13 [statsmodels]\n",
      "   ------------------------------ --------- 10/13 [statsmodels]\n",
      "   ------------------------------ --------- 10/13 [statsmodels]\n",
      "   ------------------------------ --------- 10/13 [statsmodels]\n",
      "   ------------------------------ --------- 10/13 [statsmodels]\n",
      "   ------------------------------ --------- 10/13 [statsmodels]\n",
      "   ------------------------------ --------- 10/13 [statsmodels]\n",
      "   ------------------------------ --------- 10/13 [statsmodels]\n",
      "   ------------------------------ --------- 10/13 [statsmodels]\n",
      "   ------------------------------ --------- 10/13 [statsmodels]\n",
      "   ------------------------------ --------- 10/13 [statsmodels]\n",
      "   ------------------------------ --------- 10/13 [statsmodels]\n",
      "   ------------------------------ --------- 10/13 [statsmodels]\n",
      "   ------------------------------ --------- 10/13 [statsmodels]\n",
      "   ------------------------------ --------- 10/13 [statsmodels]\n",
      "   ------------------------------ --------- 10/13 [statsmodels]\n",
      "   ------------------------------ --------- 10/13 [statsmodels]\n",
      "   ------------------------------ --------- 10/13 [statsmodels]\n",
      "   ------------------------------ --------- 10/13 [statsmodels]\n",
      "   ------------------------------ --------- 10/13 [statsmodels]\n",
      "   ------------------------------ --------- 10/13 [statsmodels]\n",
      "   ------------------------------ --------- 10/13 [statsmodels]\n",
      "   ------------------------------ --------- 10/13 [statsmodels]\n",
      "   ------------------------------ --------- 10/13 [statsmodels]\n",
      "   ------------------------------ --------- 10/13 [statsmodels]\n",
      "   --------------------------------- ------ 11/13 [phik]\n",
      "   ------------------------------------ --- 12/13 [ydata-profiling]\n",
      "   ------------------------------------ --- 12/13 [ydata-profiling]\n",
      "   ------------------------------------ --- 12/13 [ydata-profiling]\n",
      "   ---------------------------------------- 13/13 [ydata-profiling]\n",
      "\n",
      "Successfully installed PyWavelets-1.8.0 dacite-1.9.2 htmlmin-0.1.12 imagehash-4.3.1 multimethod-1.12 patsy-1.0.1 phik-0.12.4 puremagic-1.29 statsmodels-0.14.4 typeguard-4.4.2 visions-0.8.1 wordcloud-1.9.4 ydata-profiling-4.16.1\n"
     ]
    },
    {
     "name": "stderr",
     "output_type": "stream",
     "text": [
      "  DEPRECATION: Building 'htmlmin' using the legacy setup.py bdist_wheel mechanism, which will be removed in a future version. pip 25.3 will enforce this behaviour change. A possible replacement is to use the standardized build interface by setting the `--use-pep517` option, (possibly combined with `--no-build-isolation`), or adding a `pyproject.toml` file to the source tree of 'htmlmin'. Discussion can be found at https://github.com/pypa/pip/issues/6334\n"
     ]
    }
   ],
   "source": [
    "!pip install ydata-profiling"
   ]
  },
  {
   "cell_type": "code",
   "execution_count": 2,
   "id": "43dc8cef",
   "metadata": {},
   "outputs": [],
   "source": [
    "import pandas as pd"
   ]
  },
  {
   "cell_type": "code",
   "execution_count": 3,
   "id": "1d3f983d",
   "metadata": {},
   "outputs": [],
   "source": [
    "df=pd.read_csv('train.csv')"
   ]
  },
  {
   "cell_type": "markdown",
   "id": "49c3296e",
   "metadata": {},
   "source": [
    "Pandas profiling is a library which gives us the data analysis all in a single line of code"
   ]
  },
  {
   "cell_type": "code",
   "execution_count": 4,
   "id": "d22bc926",
   "metadata": {},
   "outputs": [
    {
     "name": "stderr",
     "output_type": "stream",
     "text": [
      "100%|██████████| 12/12 [00:00<00:00, 141.41it/s]<00:00, 25.51it/s, Describe variable: Embarked]\n",
      "Summarize dataset: 100%|██████████| 47/47 [00:05<00:00,  9.18it/s, Completed]                       \n",
      "Generate report structure: 100%|██████████| 1/1 [00:06<00:00,  6.99s/it]\n",
      "Render HTML: 100%|██████████| 1/1 [00:01<00:00,  1.67s/it]\n",
      "Export report to file: 100%|██████████| 1/1 [00:00<00:00, 55.89it/s]\n"
     ]
    }
   ],
   "source": [
    "from pandas_profiling import ProfileReport\n",
    "\n",
    "prof=ProfileReport(df)\n",
    "prof.to_file(output_file='output.html')"
   ]
  },
  {
   "cell_type": "code",
   "execution_count": null,
   "id": "a82c98ba",
   "metadata": {},
   "outputs": [],
   "source": []
  }
 ],
 "metadata": {
  "kernelspec": {
   "display_name": "Python 3",
   "language": "python",
   "name": "python3"
  },
  "language_info": {
   "codemirror_mode": {
    "name": "ipython",
    "version": 3
   },
   "file_extension": ".py",
   "mimetype": "text/x-python",
   "name": "python",
   "nbconvert_exporter": "python",
   "pygments_lexer": "ipython3",
   "version": "3.12.8"
  }
 },
 "nbformat": 4,
 "nbformat_minor": 5
}
