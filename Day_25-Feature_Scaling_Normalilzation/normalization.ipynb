{
 "cells": [
  {
   "cell_type": "markdown",
   "id": "46733c5d",
   "metadata": {},
   "source": [
    "Normalization is a technique often applied as a part of data preparation for machine learning. The goal of normalization is to change the values of numeric columns in the dataset to use a common scale, without distorting differences in the ranges of values or losing information"
   ]
  },
  {
   "cell_type": "markdown",
   "id": "f8c07928",
   "metadata": {},
   "source": [
    "Types of normalization:\n",
    "1) MinMaxScaling\n",
    "2) Mean normalization\n",
    "3) Max absolute scaling\n",
    "4) Robust scaling"
   ]
  },
  {
   "cell_type": "markdown",
   "id": "61adf317",
   "metadata": {},
   "source": [
    "### 🔢 Min-Max Normalization\n",
    "\n",
    "To scale a feature value \\( x_i \\) to the range \\([0, 1]\\), we apply **min-max normalization**:\n",
    "\n",
    "$$\n",
    "x_i' = \\frac{x_i - x_{\\text{min}}}{x_{\\text{max}} - x_{\\text{min}}}\n",
    "$$\n",
    "\n",
    "---\n",
    "\n",
    "#### 📘 Legend\n",
    "\n",
    "- **\\(x_i\\)**: Original feature value  \n",
    "- **\\(x_{\\text{min}}\\)**: Minimum value of the feature  \n",
    "- **\\(x_{\\text{max}}\\)**: Maximum value of the feature  \n",
    "- **\\(x_i'\\)**: Normalized value (scaled between 0 and 1)\n"
   ]
  },
  {
   "cell_type": "markdown",
   "id": "4f437a06",
   "metadata": {},
   "source": [
    "Min max scaling makes the data scale down to the range [0,1]"
   ]
  },
  {
   "cell_type": "markdown",
   "id": "a03af5ca",
   "metadata": {},
   "source": []
  }
 ],
 "metadata": {
  "language_info": {
   "name": "python"
  }
 },
 "nbformat": 4,
 "nbformat_minor": 5
}
