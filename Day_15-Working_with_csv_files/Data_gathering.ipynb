{
 "cells": [
  {
   "cell_type": "markdown",
   "id": "1aab8244",
   "metadata": {},
   "source": [
    "# Formats/sources of data in general"
   ]
  },
  {
   "cell_type": "markdown",
   "id": "f8217c33",
   "metadata": {},
   "source": [
    "1) csv files \n",
    "2) json/sql format\n",
    "3) fetching data from an API\n",
    "4) web scraping"
   ]
  },
  {
   "cell_type": "markdown",
   "id": "e63fec3b",
   "metadata": {},
   "source": [
    "#### CSV files"
   ]
  },
  {
   "cell_type": "markdown",
   "id": "9fd754d0",
   "metadata": {},
   "source": [
    "The CSV file format is a popular format supported by many machine learning frameworks. The format is variously referred to \"comma-separated values\" or \"character-separated values.\"\n",
    "\n",
    "A CSV file stores tabular data (numbers and text) in plain text form. A CSV file consists of any number of records, separated by line breaks of some kind. Each record consists of fields, separated by a literal comma. In some regions, the separator might be a semi-colon.\n",
    "\n",
    "Typically, all records have an identical number of fields, and missing values are represented as nulls or empty strings. There are a number of ways to load a CSV file in Pytho"
   ]
  },
  {
   "cell_type": "markdown",
   "id": "8581a9f6",
   "metadata": {},
   "source": []
  }
 ],
 "metadata": {
  "kernelspec": {
   "display_name": "Python 3",
   "language": "python",
   "name": "python3"
  },
  "language_info": {
   "codemirror_mode": {
    "name": "ipython",
    "version": 3
   },
   "file_extension": ".py",
   "mimetype": "text/x-python",
   "name": "python",
   "nbconvert_exporter": "python",
   "pygments_lexer": "ipython3",
   "version": "3.12.8"
  }
 },
 "nbformat": 4,
 "nbformat_minor": 5
}
