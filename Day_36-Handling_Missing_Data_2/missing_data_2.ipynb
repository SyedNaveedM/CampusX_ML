{
 "cells": [
  {
   "cell_type": "markdown",
   "id": "f94c3bbc",
   "metadata": {},
   "source": [
    "Two ways to impute numerical data:\n",
    "1) Univariate\n",
    "2) Multivariate"
   ]
  },
  {
   "cell_type": "markdown",
   "id": "609f8d43",
   "metadata": {},
   "source": [
    "If we are using a single column to impute the data then it is univariate otherwise it is multivariate"
   ]
  },
  {
   "cell_type": "markdown",
   "id": "a9ab4f6a",
   "metadata": {},
   "source": [
    "### 1) Mean/Median imputation"
   ]
  },
  {
   "cell_type": "markdown",
   "id": "571386c8",
   "metadata": {},
   "source": [
    "If our distribution is normally distributed then use mean otherwise use median"
   ]
  },
  {
   "cell_type": "markdown",
   "id": "2446de23",
   "metadata": {},
   "source": [
    "Benefits:\n",
    "1) Simple\n",
    "2) Reliable when missing data < 5%\n",
    "\n",
    "Disadvantages:\n",
    "1) Messes with the distribution shape\n",
    "2) Outliers\n",
    "3) Changes correlation"
   ]
  },
  {
   "cell_type": "markdown",
   "id": "2721cc26",
   "metadata": {},
   "source": [
    "Should be used when:\n",
    "1) The data is MCAR\n",
    "2) The missing data is less than 5%"
   ]
  },
  {
   "cell_type": "code",
   "execution_count": 1,
   "id": "c70329dc",
   "metadata": {},
   "outputs": [],
   "source": [
    "import pandas as pd\n",
    "import numpy as np\n",
    "import matplotlib.pyplot as plt"
   ]
  },
  {
   "cell_type": "code",
   "execution_count": 2,
   "id": "8e90351a",
   "metadata": {},
   "outputs": [],
   "source": [
    "from sklearn.model_selection import train_test_split\n",
    "from sklearn.impute import SimpleImputer\n",
    "from sklearn.compose import ColumnTransformer"
   ]
  },
  {
   "cell_type": "code",
   "execution_count": null,
   "id": "defb785b",
   "metadata": {},
   "outputs": [],
   "source": []
  }
 ],
 "metadata": {
  "kernelspec": {
   "display_name": "Python 3",
   "language": "python",
   "name": "python3"
  },
  "language_info": {
   "codemirror_mode": {
    "name": "ipython",
    "version": 3
   },
   "file_extension": ".py",
   "mimetype": "text/x-python",
   "name": "python",
   "nbconvert_exporter": "python",
   "pygments_lexer": "ipython3",
   "version": "3.12.8"
  }
 },
 "nbformat": 4,
 "nbformat_minor": 5
}
