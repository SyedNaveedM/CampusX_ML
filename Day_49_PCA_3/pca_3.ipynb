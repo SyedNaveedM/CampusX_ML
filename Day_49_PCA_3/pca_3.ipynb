{
 "cells": [
  {
   "cell_type": "markdown",
   "id": "74f43bfe",
   "metadata": {},
   "source": [
    "### Practical Example on MNIST dataset"
   ]
  },
  {
   "cell_type": "markdown",
   "id": "d07be21a",
   "metadata": {},
   "source": []
  }
 ],
 "metadata": {
  "kernelspec": {
   "display_name": "Python 3",
   "language": "python",
   "name": "python3"
  },
  "language_info": {
   "name": "python",
   "version": "3.12.8"
  }
 },
 "nbformat": 4,
 "nbformat_minor": 5
}
