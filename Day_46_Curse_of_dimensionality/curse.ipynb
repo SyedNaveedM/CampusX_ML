{
 "cells": [
  {
   "cell_type": "markdown",
   "id": "eab8c97b",
   "metadata": {},
   "source": [
    "The columns in our dataset are called features. The no of features is called dimensionality"
   ]
  },
  {
   "cell_type": "markdown",
   "id": "aa44a6f1",
   "metadata": {},
   "source": [
    "There is an optimal no of features that will maximise our model's performance and adding more features than that will simply decrease our model's accuracy and instead could decrease our accuracy"
   ]
  },
  {
   "cell_type": "markdown",
   "id": "d9c92b32",
   "metadata": {},
   "source": [
    "For example, if we are doing image recognition, then considering the pixels where our image doesn't really exist or it is just the background"
   ]
  },
  {
   "cell_type": "markdown",
   "id": "6b681243",
   "metadata": {},
   "source": [
    "This commonly occurs in \n",
    "1) Images\n",
    "2) Text"
   ]
  },
  {
   "cell_type": "markdown",
   "id": "b110d7f5",
   "metadata": {},
   "source": [
    "As the no of dimensions become higher and higher, the data points become much more sparse"
   ]
  },
  {
   "cell_type": "markdown",
   "id": "de82f452",
   "metadata": {},
   "source": [
    "The solution for this problem is to do dimensionality reduction. If we don't do this then:\n",
    "1) Performance decreases\n",
    "2) The amount of computation decreases"
   ]
  },
  {
   "cell_type": "markdown",
   "id": "8221a3ed",
   "metadata": {},
   "source": [
    "We do dimensionality reduction using two techniques mainly:\n",
    "1) Feature selection - Forward selection, Backward selection\n",
    "2) Feature extraction - PCA, LDA"
   ]
  },
  {
   "cell_type": "markdown",
   "id": "ca966f27",
   "metadata": {},
   "source": []
  }
 ],
 "metadata": {
  "kernelspec": {
   "display_name": "Python 3",
   "language": "python",
   "name": "python3"
  },
  "language_info": {
   "name": "python",
   "version": "3.12.8"
  }
 },
 "nbformat": 4,
 "nbformat_minor": 5
}
